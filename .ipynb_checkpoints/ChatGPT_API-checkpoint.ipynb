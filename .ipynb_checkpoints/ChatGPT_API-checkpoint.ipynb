{
 "cells": [
  {
   "cell_type": "code",
   "execution_count": 10,
   "id": "f1560406-8802-4711-b7ac-6268e7ffa224",
   "metadata": {},
   "outputs": [
    {
     "name": "stdout",
     "output_type": "stream",
     "text": [
      "3.9.15\n"
     ]
    }
   ],
   "source": [
    "from platform import python_version\n",
    "print(python_version())"
   ]
  },
  {
   "cell_type": "code",
   "execution_count": 11,
   "id": "4e7e9d3f-0dd4-4dda-8702-a01cc91b2a38",
   "metadata": {},
   "outputs": [
    {
     "name": "stdout",
     "output_type": "stream",
     "text": [
      "Name: g4f\n",
      "Version: 0.4.5.5\n",
      "Summary: The official gpt4free repository | various collection of powerful language models\n",
      "Home-page: https://github.com/xtekky/gpt4free\n",
      "Author: Tekky\n",
      "Author-email: <support@g4f.ai>\n",
      "License: \n",
      "Location: /root/anaconda3/envs/clr-env-linux/lib/python3.9/site-packages\n",
      "Requires: aiohttp, brotli, nest_asyncio, pycryptodome, requests\n",
      "Required-by: \n",
      "Note: you may need to restart the kernel to use updated packages.\n"
     ]
    }
   ],
   "source": [
    "pip show g4f"
   ]
  },
  {
   "cell_type": "code",
   "execution_count": 12,
   "id": "4dbc32fc-e283-45ff-a9a1-e2789612f56d",
   "metadata": {},
   "outputs": [
    {
     "name": "stdout",
     "output_type": "stream",
     "text": [
      "Name: Flask\n",
      "Version: 3.1.0\n",
      "Summary: A simple framework for building complex web applications.\n",
      "Home-page: \n",
      "Author: \n",
      "Author-email: \n",
      "License: \n",
      "Location: /root/anaconda3/envs/clr-env-linux/lib/python3.9/site-packages\n",
      "Requires: blinker, click, importlib-metadata, itsdangerous, Jinja2, Werkzeug\n",
      "Required-by: \n",
      "Note: you may need to restart the kernel to use updated packages.\n"
     ]
    }
   ],
   "source": [
    "pip show flask"
   ]
  },
  {
   "cell_type": "code",
   "execution_count": 13,
   "id": "e3091513-3644-450a-ad7f-a415895e5a0e",
   "metadata": {},
   "outputs": [
    {
     "name": "stdin",
     "output_type": "stream",
     "text": [
      "Please enter your question:  what is ai?\n"
     ]
    },
    {
     "name": "stdout",
     "output_type": "stream",
     "text": [
      "Response: AI, or Artificial Intelligence, refers to the simulation of human intelligence in machines that are programmed to think and learn like humans. It involves creating algorithms and systems that can process information, solve problems, recognize patterns, make decisions, and even understand natural language.\n",
      "\n",
      "AI is used in various fields, from self-driving cars and healthcare to virtual assistants like me. There are different types of AI, such as:\n",
      "\n",
      "- **Narrow AI** (also called Weak AI): Designed to handle a specific task, like facial recognition or speech recognition.\n",
      "- **General AI** (also called Strong AI): A more advanced form of AI that can understand, learn, and apply intelligence across a wide range of tasks, similar to how humans can.\n",
      "\n",
      "The goal of AI research is to create systems that can perform tasks autonomously and improve their performance over time, often by using machine learning, deep learning, and neural networks.\n",
      "Answer: AI, or Artificial Intelligence, refers to the simulation of human intelligence in machines that are programmed to think and learn like humans. It involves creating algorithms and systems that can process information, solve problems, recognize patterns, make decisions, and even understand natural language.\n",
      "\n",
      "AI is used in various fields, from self-driving cars and healthcare to virtual assistants like me. There are different types of AI, such as:\n",
      "\n",
      "- **Narrow AI** (also called Weak AI): Designed to handle a specific task, like facial recognition or speech recognition.\n",
      "- **General AI** (also called Strong AI): A more advanced form of AI that can understand, learn, and apply intelligence across a wide range of tasks, similar to how humans can.\n",
      "\n",
      "The goal of AI research is to create systems that can perform tasks autonomously and improve their performance over time, often by using machine learning, deep learning, and neural networks.\n"
     ]
    }
   ],
   "source": [
    "import g4f\n",
    "\n",
    "def ask_question(question):\n",
    "    response = g4f.ChatCompletion.create(\n",
    "        model=\"gpt-4\",\n",
    "        messages=[{\"role\": \"user\", \"content\": question}]\n",
    "    )\n",
    "    print(\"Response:\", response)\n",
    "    return response\n",
    "\n",
    "question = input(\"Please enter your question: \")\n",
    "answer = ask_question(question)\n",
    "print(\"Answer:\", answer)"
   ]
  },
  {
   "cell_type": "code",
   "execution_count": null,
   "id": "f966d3d7-6275-4f9a-b75c-05d9288e52af",
   "metadata": {},
   "outputs": [],
   "source": [
    "from flask import Flask, request, jsonify\n",
    "import g4f\n",
    "\n",
    "app = Flask(__name__)\n",
    "\n",
    "def ask_question(question):\n",
    "    response = g4f.ChatCompletion.create(\n",
    "        model=\"gpt-4\",\n",
    "        messages=[{\"role\": \"user\", \"content\": question}]\n",
    "    )\n",
    "    return response\n",
    "\n",
    "@app.route('/ask', methods=['GET'])\n",
    "def ask():\n",
    "    question = request.args.get(\"a\")\n",
    "    if not question:\n",
    "        return jsonify({\"error\": \"Parameter 'a' is required.\"}), 400\n",
    "\n",
    "    try:\n",
    "        answer = ask_question(question)\n",
    "        return jsonify({\"question\": question, \"answer\": answer}), 200\n",
    "    except Exception as e:\n",
    "        return jsonify({\"error\": str(e)}), 500\n",
    "\n",
    "if __name__ == \"__main__\":\n",
    "    app.run(debug=True)"
   ]
  },
  {
   "cell_type": "code",
   "execution_count": 14,
   "id": "febbdc84-d25b-49f1-9a8a-632746a6b207",
   "metadata": {},
   "outputs": [
    {
     "name": "stdout",
     "output_type": "stream",
     "text": [
      " * Serving Flask app 'ChatGPT_API'\n",
      " * Debug mode: on\n",
      "\u001b[31m\u001b[1mWARNING: This is a development server. Do not use it in a production deployment. Use a production WSGI server instead.\u001b[0m\n",
      " * Running on http://127.0.0.1:5000\n",
      "\u001b[33mPress CTRL+C to quit\u001b[0m\n",
      " * Restarting with stat\n",
      " * Debugger is active!\n",
      " * Debugger PIN: 112-833-014\n",
      "127.0.0.1 - - [10/Feb/2025 22:36:08] \"GET /ask?a=what%20is%20ai? HTTP/1.1\" 200 -\n",
      "127.0.0.1 - - [10/Feb/2025 22:36:41] \"GET /ask?a=What%20is%20artificial%20intelligence? HTTP/1.1\" 200 -\n",
      "^C\n"
     ]
    }
   ],
   "source": [
    "!python3 ChatGPT_API.py"
   ]
  },
  {
   "cell_type": "markdown",
   "id": "677aa735-dafc-41f2-b7ef-c43c83f070a1",
   "metadata": {},
   "source": [
    "http://127.0.0.1:5000/ask?a=<our question>"
   ]
  },
  {
   "cell_type": "code",
   "execution_count": null,
   "id": "cbf310ed-d129-46eb-9aa6-5a90e3abd31e",
   "metadata": {},
   "outputs": [],
   "source": [
    "!curl \"http://127.0.0.1:5000/ask?a=What is machine learning?\""
   ]
  }
 ],
 "metadata": {
  "kernelspec": {
   "display_name": "Python 3 (ipykernel)",
   "language": "python",
   "name": "python3"
  },
  "language_info": {
   "codemirror_mode": {
    "name": "ipython",
    "version": 3
   },
   "file_extension": ".py",
   "mimetype": "text/x-python",
   "name": "python",
   "nbconvert_exporter": "python",
   "pygments_lexer": "ipython3",
   "version": "3.9.15"
  }
 },
 "nbformat": 4,
 "nbformat_minor": 5
}
