{
 "cells": [
  {
   "cell_type": "code",
   "execution_count": 1,
   "id": "6c3b0116-38f4-4637-8e9b-15e36f45ddf1",
   "metadata": {},
   "outputs": [
    {
     "name": "stdout",
     "output_type": "stream",
     "text": [
      "3.9.15\n"
     ]
    }
   ],
   "source": [
    "from platform import python_version\n",
    "print(python_version())"
   ]
  },
  {
   "cell_type": "code",
   "execution_count": 2,
   "id": "97474ac0-6543-4724-a218-d37281c2daaa",
   "metadata": {},
   "outputs": [
    {
     "name": "stderr",
     "output_type": "stream",
     "text": [
      "2025-05-02 12:15:40.601340: E tensorflow/compiler/xla/stream_executor/cuda/cuda_dnn.cc:9342] Unable to register cuDNN factory: Attempting to register factory for plugin cuDNN when one has already been registered\n",
      "2025-05-02 12:15:40.601443: E tensorflow/compiler/xla/stream_executor/cuda/cuda_fft.cc:609] Unable to register cuFFT factory: Attempting to register factory for plugin cuFFT when one has already been registered\n",
      "2025-05-02 12:15:40.603434: E tensorflow/compiler/xla/stream_executor/cuda/cuda_blas.cc:1518] Unable to register cuBLAS factory: Attempting to register factory for plugin cuBLAS when one has already been registered\n",
      "2025-05-02 12:15:40.762112: I tensorflow/core/platform/cpu_feature_guard.cc:182] This TensorFlow binary is optimized to use available CPU instructions in performance-critical operations.\n",
      "To enable the following instructions: AVX2 FMA, in other operations, rebuild TensorFlow with the appropriate compiler flags.\n",
      "2025-05-02 12:15:42.514296: W tensorflow/compiler/tf2tensorrt/utils/py_utils.cc:38] TF-TRT Warning: Could not find TensorRT\n"
     ]
    },
    {
     "name": "stdout",
     "output_type": "stream",
     "text": [
      "TensorFlow: 2.14.0 | Keras: 2.14.0\n"
     ]
    }
   ],
   "source": [
    "import tensorflow as tf\n",
    "import keras\n",
    "from keras.models import Sequential\n",
    "from keras.layers import Dense, LSTM, Dropout, Conv1D, MaxPooling1D\n",
    "from keras.layers import Embedding\n",
    "import keras; \n",
    "print('TensorFlow:', tf.__version__, '| Keras:', keras.__version__)"
   ]
  },
  {
   "cell_type": "code",
   "execution_count": 3,
   "id": "845a61cb-fd3e-462a-9ab2-a48950669d42",
   "metadata": {},
   "outputs": [
    {
     "name": "stdout",
     "output_type": "stream",
     "text": [
      "Num GPUs Available: 1\n",
      "[PhysicalDevice(name='/physical_device:CPU:0', device_type='CPU'), PhysicalDevice(name='/physical_device:GPU:0', device_type='GPU')]\n"
     ]
    },
    {
     "name": "stderr",
     "output_type": "stream",
     "text": [
      "2025-05-02 12:15:46.108788: I tensorflow/compiler/xla/stream_executor/cuda/cuda_gpu_executor.cc:880] could not open file to read NUMA node: /sys/bus/pci/devices/0000:01:00.0/numa_node\n",
      "Your kernel may have been built without NUMA support.\n",
      "2025-05-02 12:15:46.327082: I tensorflow/compiler/xla/stream_executor/cuda/cuda_gpu_executor.cc:880] could not open file to read NUMA node: /sys/bus/pci/devices/0000:01:00.0/numa_node\n",
      "Your kernel may have been built without NUMA support.\n",
      "2025-05-02 12:15:46.327232: I tensorflow/compiler/xla/stream_executor/cuda/cuda_gpu_executor.cc:880] could not open file to read NUMA node: /sys/bus/pci/devices/0000:01:00.0/numa_node\n",
      "Your kernel may have been built without NUMA support.\n"
     ]
    }
   ],
   "source": [
    "# Check GPU availability\n",
    "print(\"Num GPUs Available:\", len(tf.config.list_physical_devices('GPU')))\n",
    "print(tf.config.list_physical_devices())\n",
    "\n",
    "# Force TensorFlow to use GPU\n",
    "tf.config.experimental.set_memory_growth(tf.config.list_physical_devices('GPU')[0], True)"
   ]
  },
  {
   "cell_type": "code",
   "execution_count": 4,
   "id": "110223bd-3ca5-47f0-911c-f0582f840442",
   "metadata": {},
   "outputs": [],
   "source": [
    "import numpy as np\n",
    "import pandas as pd\n",
    "import json\n",
    "from sklearn.model_selection import train_test_split\n",
    "from matplotlib import pyplot\n",
    "import seaborn as sns"
   ]
  },
  {
   "cell_type": "code",
   "execution_count": 5,
   "id": "3fd53478-9b97-4a5f-9717-de85ba9a47a4",
   "metadata": {},
   "outputs": [
    {
     "name": "stdout",
     "output_type": "stream",
     "text": [
      "TensorFlow version: 2.14.0\n",
      "Keras version: 2.14.0\n",
      "Numpy version: 1.23.5\n"
     ]
    }
   ],
   "source": [
    "print(\"TensorFlow version:\", tf.__version__)\n",
    "print(\"Keras version:\", keras.__version__)\n",
    "print(\"Numpy version:\", np.__version__)"
   ]
  },
  {
   "cell_type": "code",
   "execution_count": 18,
   "id": "da54bd99-a280-48d1-9ecf-5cef5855b666",
   "metadata": {},
   "outputs": [
    {
     "name": "stdout",
     "output_type": "stream",
     "text": [
      "Detected encoding: utf_8\n",
      "                                               email label\n",
      "0  Hi James,\\n\\nHave you claim your complimentary...  spam\n",
      "1  \\nalt_text\\nCongratulations, you just earned\\n...   ham\n",
      "2  Here's your GitHub launch code, @Mortyj420!\\n ...   ham\n",
      "3  Hello,\\n \\nThank you for contacting the Virtua...   ham\n",
      "4  Hey Prachanda Rawal,\\n\\nToday's newsletter is ...  spam\n"
     ]
    }
   ],
   "source": [
    "from charset_normalizer import from_path\n",
    "\n",
    "file_path = \"Dataset/SeparateDatasets/email_spam.csv\"\n",
    "\n",
    "# Detect encoding\n",
    "result = from_path(file_path).best()\n",
    "print(\"Detected encoding:\", result.encoding)\n",
    "\n",
    "# Load CSV with detected encoding\n",
    "df1 = pd.read_csv(file_path, encoding=result.encoding)\n",
    "\n",
    "# Keep only the required columns and rename them\n",
    "df1 = df1[['text', 'type']].rename(columns={'text': 'email', 'type': 'label'})\n",
    "\n",
    "# Replace 'not spam' with 'ham'\n",
    "df1['label'] = df1['label'].replace({'not spam': 'ham'})\n",
    "\n",
    "print(df1.head())\n"
   ]
  },
  {
   "cell_type": "code",
   "execution_count": 19,
   "id": "b41c92cd-88fe-4923-906c-d7c39104f81d",
   "metadata": {},
   "outputs": [
    {
     "name": "stdout",
     "output_type": "stream",
     "text": [
      "Detected encoding: ascii\n",
      "                                               email label\n",
      "0  naturally irresistible your corporate identity...  spam\n",
      "1  the stock trading gunslinger  fanny is merrill...  spam\n",
      "2  unbelievable new homes made easy  im wanting t...  spam\n",
      "3  4 color printing special  request additional i...  spam\n",
      "4  do not have money , get software cds from here...  spam\n"
     ]
    }
   ],
   "source": [
    "import pandas as pd\n",
    "from charset_normalizer import from_path\n",
    "\n",
    "file_path = \"Dataset/SeparateDatasets/emails.csv\"\n",
    "\n",
    "# Detect encoding\n",
    "result = from_path(file_path).best()\n",
    "print(\"Detected encoding:\", result.encoding)\n",
    "\n",
    "# Load CSV with detected encoding\n",
    "df2 = pd.read_csv(file_path, encoding=result.encoding)\n",
    "\n",
    "# Keep only the required columns and rename them\n",
    "df2 = df2[['text', 'spam']].rename(columns={'text': 'email', 'spam': 'label'})\n",
    "\n",
    "# Replace 'not spam' with 'ham'\n",
    "df2['label'] = df2['label'].replace({0: 'ham', 1: 'spam'})\n",
    "\n",
    "# Remove \"Subject:\" from the beginning of emails\n",
    "df2['email'] = df2['email'].str.replace(r'^Subject:\\s*', '', regex=True)\n",
    "\n",
    "print(df2.head())"
   ]
  },
  {
   "cell_type": "code",
   "execution_count": 20,
   "id": "e80240c0-091c-44b9-84cf-49caf3c177ba",
   "metadata": {},
   "outputs": [
    {
     "name": "stdout",
     "output_type": "stream",
     "text": [
      "Detected encoding: utf_8\n",
      "                                               email label\n",
      "0  ﻿ممنون آقا سامان.\\nمن پارسال اصلا آزاد شرکت نک...   ham\n",
      "1  ﻿سلام آقای کریمی\\nبالاخره آزمونارشد تموم شد من...   ham\n",
      "2  ﻿درود بر حاج وحیدی بنده بعنوان یک دکتری تاریخ ...   ham\n",
      "3  ﻿با سلام  و احترام\\nضمن تقدیر از مسولین محترم ...   ham\n",
      "4  ﻿با سلام اینجانب یک دستگاه خودرو پراید 131 با ...   ham\n"
     ]
    }
   ],
   "source": [
    "from charset_normalizer import from_path\n",
    "\n",
    "file_path = \"Dataset/SeparateDatasets/emailsfa.csv\"\n",
    "\n",
    "# Detect encoding\n",
    "result = from_path(file_path).best()\n",
    "print(\"Detected encoding:\", result.encoding)\n",
    "\n",
    "# Load CSV with detected encoding\n",
    "df3 = pd.read_csv(file_path, encoding=result.encoding)\n",
    "\n",
    "# Keep only the required columns and rename them\n",
    "df3 = df3[['text', 'label']].rename(columns={'text': 'email'})\n",
    "\n",
    "print(df3.head())"
   ]
  },
  {
   "cell_type": "code",
   "execution_count": 21,
   "id": "afef87bf-b094-488b-bb1b-dbc1299dd21e",
   "metadata": {},
   "outputs": [
    {
     "name": "stdout",
     "output_type": "stream",
     "text": [
      "Detected encoding: cp1250\n",
      "                                               email label\n",
      "0  Go until jurong point, crazy.. Available only ...   ham\n",
      "1                      Ok lar... Joking wif u oni...   ham\n",
      "2  Free entry in 2 a wkly comp to win FA Cup fina...  spam\n",
      "3  U dun say so early hor... U c already then say...   ham\n",
      "4  Nah I don't think he goes to usf, he lives aro...   ham\n"
     ]
    }
   ],
   "source": [
    "from charset_normalizer import from_path\n",
    "\n",
    "file_path = \"Dataset/SeparateDatasets/spam.csv\"\n",
    "\n",
    "# Detect encoding\n",
    "result = from_path(file_path).best()\n",
    "print(\"Detected encoding:\", result.encoding)\n",
    "\n",
    "# Load CSV with detected encoding\n",
    "df4 = pd.read_csv(file_path, encoding=result.encoding)\n",
    "\n",
    "# Keep only the required columns and rename them\n",
    "df4 = df4[['v1', 'v2']].rename(columns={'v2': 'email', 'v1': 'label'})\n",
    "df4 = df4[[\"email\",\"label\"]]\n",
    "\n",
    "print(df4.head())"
   ]
  },
  {
   "cell_type": "code",
   "execution_count": 22,
   "id": "122cbb0a-ae0f-4c7b-b8e7-0e578a11b58e",
   "metadata": {},
   "outputs": [
    {
     "name": "stdout",
     "output_type": "stream",
     "text": [
      "Detected encoding: utf_8\n",
      "                                               email label\n",
      "0  viiiiiiagraaaa\\nonly for the ones that want to...  spam\n",
      "1  got ice thought look az original message ice o...   ham\n",
      "2  yo ur wom an ne eds an escapenumber in ch ma n...  spam\n",
      "3  start increasing your odds of success & live s...  spam\n",
      "4  author jra date escapenumber escapenumber esca...   ham\n"
     ]
    }
   ],
   "source": [
    "from charset_normalizer import from_path\n",
    "\n",
    "file_path = \"Dataset/SeparateDatasets/spam_Emails_data.csv\"\n",
    "\n",
    "# Detect encoding\n",
    "result = from_path(file_path).best()\n",
    "print(\"Detected encoding:\", result.encoding)\n",
    "\n",
    "# Load CSV with detected encoding\n",
    "df5 = pd.read_csv(file_path, encoding=result.encoding)\n",
    "\n",
    "# Keep only the required columns and rename them\n",
    "df5 = df5[['label', 'text']].rename(columns={'text': 'email'})\n",
    "df5 = df5[['email','label']]\n",
    "df5['label'] = df5['label'].replace({'Ham': 'ham', 'Spam': 'spam'})\n",
    "\n",
    "print(df5.head())"
   ]
  },
  {
   "cell_type": "code",
   "execution_count": 46,
   "id": "2d5e5b19-0a24-4f2d-b343-46f2b82ccb84",
   "metadata": {
    "scrolled": true
   },
   "outputs": [
    {
     "name": "stdout",
     "output_type": "stream",
     "text": [
      "Shuffled dataset saved successfully as emails.csv!\n"
     ]
    }
   ],
   "source": [
    "import pandas as pd\n",
    "\n",
    "# Combine all dataframes vertically\n",
    "train_df = pd.concat([df1, df2, df3, df4, df5], ignore_index=True)\n",
    "\n",
    "# Shuffle the dataset\n",
    "train_df = train_df.sample(frac=1, random_state=42).reset_index(drop=True)\n",
    "\n",
    "# Save the shuffled dataset to a CSV file\n",
    "train_df.to_csv(\"Dataset/emails.csv\", index=False)\n",
    "\n",
    "print(\"Shuffled dataset saved successfully as emails.csv!\")"
   ]
  },
  {
   "cell_type": "code",
   "execution_count": 6,
   "id": "4e6f34ab-f12c-42f6-b987-22b3f1ea1d55",
   "metadata": {},
   "outputs": [],
   "source": [
    "train_df = pd.read_csv(\"Dataset/emails.csv\")"
   ]
  },
  {
   "cell_type": "code",
   "execution_count": 7,
   "id": "97b1b587-1adb-4ad4-aada-773b1adc569e",
   "metadata": {},
   "outputs": [
    {
     "data": {
      "text/plain": [
       "(206236, 2)"
      ]
     },
     "execution_count": 7,
     "metadata": {},
     "output_type": "execute_result"
    }
   ],
   "source": [
    "train_df.shape"
   ]
  },
  {
   "cell_type": "code",
   "execution_count": 8,
   "id": "b0d6ae6d-f761-4af4-8c6c-1e8bcdfa3aba",
   "metadata": {},
   "outputs": [
    {
     "name": "stdout",
     "output_type": "stream",
     "text": [
      "on escapenumber escapenumber escapenumber richard m heiberger wrote i am using rodbc to collect data from an odbc connection to an ms access database everything seems to be working well except datetimes between march escapenumber escapenumber escapenumber escapenumber and escapenumber escapenumber get moved one hour forward this does not seem to be happening with excel connecting to the same connection march escapenumber seems a bit early for daylight savings time what am i doing wrong in escapenumber the us moved daylight savings to march escapenumber instead of the more traditional first weekend in april it continues to november escapenumber a week later than before google daylight savings escapenumber for lots of background some ms programs did not make the switch until april escapenumber therefore my calendars doubled up continuing appointments from your experience it looks like some programs are retroactively misapplying the change to escapenumber this appears to be a strange interaction between r and windows if i have windows set to automatically adjust clock for daylight savings changes then in r i get the following as posixct escapenumber escapenumber escapenumber escapenumber escapenumber escapenumber estescapenumberedt tz est escapenumber escapenumber escapenumber escapenumber escapenumber escapenumber escapenumber est as posixct escapenumber escapenumber escapenumber escapenumber escapenumber escapenumber estescapenumberedt tz est escapenumber escapenumber escapenumber escapenumber escapenumber escapenumber escapenumber est if i uncheck the automatically adjust clock for daylight savings checkbox i get as posixct escapenumber escapenumber escapenumber escapenumber escapenumber escapenumber estescapenumberedt tz est escapenumber escapenumber escapenumber escapenumber escapenumber escapenumber escapenumber est as posixct escapenumber escapenumber escapenumber escapenumber escapenumber escapenumber estescapenumberedt tz est escapenumber escapenumber escapenumber escapenumber escapenumber escapenumber escapenumber est all of which makes my head hurt at least now i can read the query with as is true and set the tz explicitly alternative html version deleted r help stat math ethz ch mailing list https stat ethz ch mailman listinfo r help please do read the posting guide http www r project org posting guide html and provide commented minimal self contained reproducible code \n"
     ]
    }
   ],
   "source": [
    "print(train_df.loc[3956, 'email'])"
   ]
  },
  {
   "cell_type": "code",
   "execution_count": 9,
   "id": "1bd0e2c9-ffba-47e7-a629-85ffbb7755a7",
   "metadata": {},
   "outputs": [
    {
     "name": "stdout",
     "output_type": "stream",
     "text": [
      "ham\n"
     ]
    }
   ],
   "source": [
    "print(train_df.loc[3956, 'label'])"
   ]
  },
  {
   "cell_type": "code",
   "execution_count": 10,
   "id": "b2ff047f-84b4-4935-b10c-20e02b0ca927",
   "metadata": {},
   "outputs": [
    {
     "data": {
      "text/plain": [
       "ham     111903\n",
       "spam     94333\n",
       "Name: label, dtype: int64"
      ]
     },
     "execution_count": 10,
     "metadata": {},
     "output_type": "execute_result"
    }
   ],
   "source": [
    "train_df.label.value_counts()"
   ]
  },
  {
   "cell_type": "code",
   "execution_count": 11,
   "id": "271f68ab-8c43-4ba0-b458-984f3637cadf",
   "metadata": {},
   "outputs": [
    {
     "data": {
      "text/html": [
       "<div>\n",
       "<style scoped>\n",
       "    .dataframe tbody tr th:only-of-type {\n",
       "        vertical-align: middle;\n",
       "    }\n",
       "\n",
       "    .dataframe tbody tr th {\n",
       "        vertical-align: top;\n",
       "    }\n",
       "\n",
       "    .dataframe thead th {\n",
       "        text-align: right;\n",
       "    }\n",
       "</style>\n",
       "<table border=\"1\" class=\"dataframe\">\n",
       "  <thead>\n",
       "    <tr style=\"text-align: right;\">\n",
       "      <th></th>\n",
       "      <th>email</th>\n",
       "      <th>label</th>\n",
       "      <th>new_label</th>\n",
       "    </tr>\n",
       "  </thead>\n",
       "  <tbody>\n",
       "    <tr>\n",
       "      <th>206231</th>\n",
       "      <td>buenos d edas mi laptop es una hd pavilion dve...</td>\n",
       "      <td>ham</td>\n",
       "      <td>0</td>\n",
       "    </tr>\n",
       "    <tr>\n",
       "      <th>206232</th>\n",
       "      <td>( see attached file : hplo 809 . xls )\\n- hplo...</td>\n",
       "      <td>ham</td>\n",
       "      <td>0</td>\n",
       "    </tr>\n",
       "    <tr>\n",
       "      <th>206233</th>\n",
       "      <td>subject journal langues call revue langues app...</td>\n",
       "      <td>ham</td>\n",
       "      <td>0</td>\n",
       "    </tr>\n",
       "    <tr>\n",
       "      <th>206234</th>\n",
       "      <td>does size matter escapenumber of women said th...</td>\n",
       "      <td>spam</td>\n",
       "      <td>1</td>\n",
       "    </tr>\n",
       "    <tr>\n",
       "      <th>206235</th>\n",
       "      <td>exactly how are you accessing it and what warn...</td>\n",
       "      <td>ham</td>\n",
       "      <td>0</td>\n",
       "    </tr>\n",
       "  </tbody>\n",
       "</table>\n",
       "</div>"
      ],
      "text/plain": [
       "                                                    email label  new_label\n",
       "206231  buenos d edas mi laptop es una hd pavilion dve...   ham          0\n",
       "206232  ( see attached file : hplo 809 . xls )\\n- hplo...   ham          0\n",
       "206233  subject journal langues call revue langues app...   ham          0\n",
       "206234  does size matter escapenumber of women said th...  spam          1\n",
       "206235  exactly how are you accessing it and what warn...   ham          0"
      ]
     },
     "execution_count": 11,
     "metadata": {},
     "output_type": "execute_result"
    }
   ],
   "source": [
    "train_df['new_label'] = train_df.label.apply(lambda x: 0 if x=='ham' else 1)\n",
    "train_df.tail()"
   ]
  },
  {
   "cell_type": "code",
   "execution_count": 12,
   "id": "8595461c-aa2f-409b-b3da-5cfc4c413400",
   "metadata": {},
   "outputs": [
    {
     "data": {
      "text/plain": [
       "2"
      ]
     },
     "execution_count": 12,
     "metadata": {},
     "output_type": "execute_result"
    }
   ],
   "source": [
    "num_classes = len(train_df.label.unique())\n",
    "num_classes"
   ]
  },
  {
   "cell_type": "code",
   "execution_count": 13,
   "id": "832120c3-a52b-4773-956d-88b9263ae808",
   "metadata": {},
   "outputs": [
    {
     "name": "stderr",
     "output_type": "stream",
     "text": [
      "/tmp/ipykernel_23719/1572753396.py:1: FutureWarning: The default value of regex will change from True to False in a future version.\n",
      "  train_df['email_no_punctuation'] = train_df['email'].str.replace('[^\\w\\s]','')\n"
     ]
    }
   ],
   "source": [
    "train_df['email_no_punctuation'] = train_df['email'].str.replace('[^\\w\\s]','')\n",
    "train_df['email_no_punctuation'] = train_df[\"email_no_punctuation\"].fillna(\"fillna\")"
   ]
  },
  {
   "cell_type": "code",
   "execution_count": 14,
   "id": "65fea5ad-d508-4912-87ec-1347fea15047",
   "metadata": {},
   "outputs": [
    {
     "data": {
      "text/html": [
       "<div>\n",
       "<style scoped>\n",
       "    .dataframe tbody tr th:only-of-type {\n",
       "        vertical-align: middle;\n",
       "    }\n",
       "\n",
       "    .dataframe tbody tr th {\n",
       "        vertical-align: top;\n",
       "    }\n",
       "\n",
       "    .dataframe thead th {\n",
       "        text-align: right;\n",
       "    }\n",
       "</style>\n",
       "<table border=\"1\" class=\"dataframe\">\n",
       "  <thead>\n",
       "    <tr style=\"text-align: right;\">\n",
       "      <th></th>\n",
       "      <th>email</th>\n",
       "      <th>label</th>\n",
       "      <th>new_label</th>\n",
       "      <th>email_no_punctuation</th>\n",
       "    </tr>\n",
       "  </thead>\n",
       "  <tbody>\n",
       "    <tr>\n",
       "      <th>0</th>\n",
       "      <td>on wed escapenumber may escapenumber christos ...</td>\n",
       "      <td>ham</td>\n",
       "      <td>0</td>\n",
       "      <td>on wed escapenumber may escapenumber christos ...</td>\n",
       "    </tr>\n",
       "    <tr>\n",
       "      <th>1</th>\n",
       "      <td>kim attached please find a consent to assignme...</td>\n",
       "      <td>ham</td>\n",
       "      <td>0</td>\n",
       "      <td>kim attached please find a consent to assignme...</td>\n",
       "    </tr>\n",
       "    <tr>\n",
       "      <th>2</th>\n",
       "      <td>please email me a copy of jodie floyd's mid ye...</td>\n",
       "      <td>ham</td>\n",
       "      <td>0</td>\n",
       "      <td>please email me a copy of jodie floyds mid yea...</td>\n",
       "    </tr>\n",
       "    <tr>\n",
       "      <th>3</th>\n",
       "      <td>guess find tonight original message maggi mike...</td>\n",
       "      <td>ham</td>\n",
       "      <td>0</td>\n",
       "      <td>guess find tonight original message maggi mike...</td>\n",
       "    </tr>\n",
       "    <tr>\n",
       "      <th>4</th>\n",
       "      <td>sure tiny give call jerry original message roe...</td>\n",
       "      <td>ham</td>\n",
       "      <td>0</td>\n",
       "      <td>sure tiny give call jerry original message roe...</td>\n",
       "    </tr>\n",
       "  </tbody>\n",
       "</table>\n",
       "</div>"
      ],
      "text/plain": [
       "                                               email label  new_label  \\\n",
       "0  on wed escapenumber may escapenumber christos ...   ham          0   \n",
       "1  kim attached please find a consent to assignme...   ham          0   \n",
       "2  please email me a copy of jodie floyd's mid ye...   ham          0   \n",
       "3  guess find tonight original message maggi mike...   ham          0   \n",
       "4  sure tiny give call jerry original message roe...   ham          0   \n",
       "\n",
       "                                email_no_punctuation  \n",
       "0  on wed escapenumber may escapenumber christos ...  \n",
       "1  kim attached please find a consent to assignme...  \n",
       "2  please email me a copy of jodie floyds mid yea...  \n",
       "3  guess find tonight original message maggi mike...  \n",
       "4  sure tiny give call jerry original message roe...  "
      ]
     },
     "execution_count": 14,
     "metadata": {},
     "output_type": "execute_result"
    }
   ],
   "source": [
    "train_df.head()"
   ]
  },
  {
   "cell_type": "code",
   "execution_count": 15,
   "id": "084f4bd4-18c2-4a25-8e8a-45aad83f1b3a",
   "metadata": {},
   "outputs": [
    {
     "data": {
      "text/plain": [
       "Index(['email', 'label', 'new_label', 'email_no_punctuation'], dtype='object')"
      ]
     },
     "execution_count": 15,
     "metadata": {},
     "output_type": "execute_result"
    }
   ],
   "source": [
    "train_df.columns"
   ]
  },
  {
   "cell_type": "code",
   "execution_count": 16,
   "id": "e47064eb-4b3a-4356-bb84-32ee9fe1263f",
   "metadata": {},
   "outputs": [],
   "source": [
    "Y = train_df['new_label']"
   ]
  },
  {
   "cell_type": "code",
   "execution_count": 17,
   "id": "ecb6b7d6-b47e-48af-9a23-430d36c527de",
   "metadata": {},
   "outputs": [
    {
     "data": {
      "text/plain": [
       "0         0\n",
       "1         0\n",
       "2         0\n",
       "3         0\n",
       "4         0\n",
       "         ..\n",
       "206231    0\n",
       "206232    0\n",
       "206233    0\n",
       "206234    1\n",
       "206235    0\n",
       "Name: new_label, Length: 206236, dtype: int64"
      ]
     },
     "execution_count": 17,
     "metadata": {},
     "output_type": "execute_result"
    }
   ],
   "source": [
    "Y"
   ]
  },
  {
   "cell_type": "code",
   "execution_count": 18,
   "id": "af2f7020-e80c-4d70-91ac-ec717c9968c5",
   "metadata": {},
   "outputs": [
    {
     "data": {
      "text/plain": [
       "(206236,)"
      ]
     },
     "execution_count": 18,
     "metadata": {},
     "output_type": "execute_result"
    }
   ],
   "source": [
    "Y.shape"
   ]
  },
  {
   "cell_type": "code",
   "execution_count": 19,
   "id": "d006c68b-8267-436d-bb39-c4d07c5ca0f3",
   "metadata": {},
   "outputs": [
    {
     "name": "stdout",
     "output_type": "stream",
     "text": [
      "Total unique words: 549938\n"
     ]
    }
   ],
   "source": [
    "from collections import Counter\n",
    "\n",
    "all_words = \" \".join(train_df['email_no_punctuation']).split()\n",
    "word_counts = Counter(all_words)\n",
    "unique_words = len(word_counts)\n",
    "\n",
    "print(\"Total unique words:\", unique_words)"
   ]
  },
  {
   "cell_type": "code",
   "execution_count": 20,
   "id": "44dc0e36-c5cc-4e1d-9eea-f9cef8d26619",
   "metadata": {},
   "outputs": [
    {
     "name": "stdout",
     "output_type": "stream",
     "text": [
      "Mean length: 257.799947632809\n",
      "90th percentile: 537.0\n",
      "95th percentile: 821.0\n",
      "Max length: 1585483\n"
     ]
    }
   ],
   "source": [
    "import numpy as np\n",
    "\n",
    "email_lengths = train_df['email_no_punctuation'].apply(lambda x: len(x.split()))\n",
    "\n",
    "print(\"Mean length:\", np.mean(email_lengths))\n",
    "print(\"90th percentile:\", np.percentile(email_lengths, 90))\n",
    "print(\"95th percentile:\", np.percentile(email_lengths, 95))\n",
    "print(\"Max length:\", np.max(email_lengths))"
   ]
  },
  {
   "cell_type": "code",
   "execution_count": 21,
   "id": "a4b7f388-a3df-4ecc-b1a5-4b6177044c2c",
   "metadata": {},
   "outputs": [],
   "source": [
    "max_features = 100000"
   ]
  },
  {
   "cell_type": "code",
   "execution_count": 22,
   "id": "f94f8c3e-3293-4188-9b4b-9a6916480bab",
   "metadata": {},
   "outputs": [],
   "source": [
    "from tensorflow.keras.preprocessing.text import Tokenizer\n",
    "from tensorflow.keras.preprocessing.sequence import pad_sequences\n",
    "\n",
    "tokenizer = Tokenizer(max_features, oov_token=\"<OOV>\")\n",
    "tokenizer.fit_on_texts(train_df['email_no_punctuation'])\n",
    "\n",
    "sequences = tokenizer.texts_to_sequences(train_df['email_no_punctuation'])\n",
    "padded_sequences = pad_sequences(sequences, maxlen=400, padding='post', truncating='post')"
   ]
  },
  {
   "cell_type": "code",
   "execution_count": 23,
   "id": "1762fa84-d519-4b6c-89c3-57c4f05dac00",
   "metadata": {},
   "outputs": [
    {
     "data": {
      "text/plain": [
       "545479"
      ]
     },
     "execution_count": 23,
     "metadata": {},
     "output_type": "execute_result"
    }
   ],
   "source": [
    "len(tokenizer.word_index)"
   ]
  },
  {
   "cell_type": "code",
   "execution_count": 24,
   "id": "2da225cd-1ec4-45c3-a3cd-aa287deccfbb",
   "metadata": {},
   "outputs": [],
   "source": [
    "vocab_size = len(tokenizer.word_index) + 1 "
   ]
  },
  {
   "cell_type": "code",
   "execution_count": 25,
   "id": "579aac35-563a-4f4e-ac9d-e0b4935ff356",
   "metadata": {},
   "outputs": [],
   "source": [
    "Y = train_df['new_label']"
   ]
  },
  {
   "cell_type": "code",
   "execution_count": 26,
   "id": "cde560bf-1c5f-4622-9e47-2eda72693fc8",
   "metadata": {},
   "outputs": [
    {
     "data": {
      "text/plain": [
       "206231    0\n",
       "206232    0\n",
       "206233    0\n",
       "206234    1\n",
       "206235    0\n",
       "Name: new_label, dtype: int64"
      ]
     },
     "execution_count": 26,
     "metadata": {},
     "output_type": "execute_result"
    }
   ],
   "source": [
    "Y.tail()"
   ]
  },
  {
   "cell_type": "code",
   "execution_count": 27,
   "id": "5a199ac3-36bf-471e-8ef0-cc5dac7393c7",
   "metadata": {},
   "outputs": [],
   "source": [
    "from sklearn.model_selection import train_test_split\n",
    "import numpy as np\n",
    "\n",
    "X = np.array(padded_sequences)\n",
    "y = np.array(train_df['new_label']) \n",
    "\n",
    "# First split: train/test\n",
    "X_train, X_test, y_train, y_test = train_test_split(\n",
    "    X, y, test_size=0.2, random_state=42, stratify=y  # stratify keeps label distribution consistent\n",
    ")"
   ]
  },
  {
   "cell_type": "code",
   "execution_count": 28,
   "id": "2a5c66ea-833c-40f1-907a-1d0caa0903f1",
   "metadata": {},
   "outputs": [],
   "source": [
    "# Second split: train → train/val (10% of the 80% = 8% of total data)\n",
    "X_train_final, X_val, y_train_final, y_val = train_test_split(\n",
    "    X_train, y_train, test_size=0.1, random_state=42, stratify=y_train\n",
    ")"
   ]
  },
  {
   "cell_type": "code",
   "execution_count": 29,
   "id": "cf4311fa-be3f-4fd8-834f-d57d3c32971e",
   "metadata": {},
   "outputs": [],
   "source": [
    "import tensorflow as tf\n",
    "from tensorflow.keras.models import Sequential\n",
    "from tensorflow.keras.layers import Embedding, Conv1D, MaxPool1D, GlobalMaxPooling1D, Dense, Dropout\n",
    "from tensorflow.keras.regularizers import l2\n",
    "from tensorflow.keras.callbacks import EarlyStopping\n",
    "from sklearn.model_selection import train_test_split\n",
    "from tensorflow.keras.metrics import Precision, Recall"
   ]
  },
  {
   "cell_type": "code",
   "execution_count": 30,
   "id": "4b6ad9b7-1d93-4415-abbe-849e2994c5ed",
   "metadata": {},
   "outputs": [],
   "source": [
    "import os\n",
    "os.environ[\"TF_GPU_ALLOCATOR\"] = \"cuda_malloc_async\"\n",
    "import tensorflow as tf"
   ]
  },
  {
   "cell_type": "code",
   "execution_count": 31,
   "id": "7883820e-fc01-4d83-8389-64b0018163ed",
   "metadata": {},
   "outputs": [],
   "source": [
    "import tensorflow as tf\n",
    "gpu_devices = tf.config.experimental.list_physical_devices('GPU')\n",
    "for device in gpu_devices:\n",
    "    tf.config.experimental.set_memory_growth(device, True)"
   ]
  },
  {
   "cell_type": "code",
   "execution_count": 32,
   "id": "2f8e9e92-0d8a-4c21-b175-339f1f34aa88",
   "metadata": {},
   "outputs": [],
   "source": [
    "def load_combined_fasttext_selected(embedding_paths, word_index, max_features, embedding_dim=300):\n",
    "    embeddings_index = {}\n",
    "    needed_words = set([word for word, i in word_index.items() if i < max_features])\n",
    "\n",
    "    for path in embedding_paths:\n",
    "        with open(path, encoding='utf-8') as f:\n",
    "            next(f)  # skip header\n",
    "            for line in f:\n",
    "                values = line.rstrip().split(' ')\n",
    "                word = values[0]\n",
    "                if word in needed_words and word not in embeddings_index:\n",
    "                    vector = np.asarray(values[1:], dtype='float32')\n",
    "                    embeddings_index[word] = vector\n",
    "\n",
    "    embedding_matrix = np.zeros((max_features, embedding_dim))\n",
    "    for word, i in word_index.items():\n",
    "        if i < max_features:\n",
    "            embedding_vector = embeddings_index.get(word)\n",
    "            if embedding_vector is not None:\n",
    "                embedding_matrix[i] = embedding_vector\n",
    "\n",
    "    return embedding_matrix"
   ]
  },
  {
   "cell_type": "code",
   "execution_count": 33,
   "id": "754324b3-ec0e-4166-8c95-d3c667fc79c8",
   "metadata": {},
   "outputs": [],
   "source": [
    "from tensorflow.keras.layers import Layer\n",
    "import tensorflow.keras.backend as K\n",
    "\n",
    "class Attention(Layer):\n",
    "    def __init__(self, **kwargs):\n",
    "        super(Attention, self).__init__(**kwargs)\n",
    "\n",
    "    def call(self, inputs):\n",
    "        score = K.tanh(inputs)\n",
    "        attention_weights = K.softmax(score, axis=1)\n",
    "        context_vector = attention_weights * inputs\n",
    "        context_vector = K.sum(context_vector, axis=1)\n",
    "        return context_vector"
   ]
  },
  {
   "cell_type": "code",
   "execution_count": 34,
   "id": "ce5bcec4-0f53-4f2e-b421-2e522f99781b",
   "metadata": {},
   "outputs": [],
   "source": [
    "from tensorflow.keras.models import Model\n",
    "from tensorflow.keras.layers import (Input, Embedding, Conv1D, MaxPooling1D, Dropout, Dense, \n",
    "                                     BatchNormalization, Bidirectional, LSTM, GlobalMaxPooling1D)\n",
    "from tensorflow.keras.optimizers import Adam\n",
    "from tensorflow.keras.regularizers import l2\n",
    "from tensorflow.keras.metrics import Precision, Recall\n",
    "# Inputs\n",
    "input_layer = Input(shape=(400,))\n",
    "\n",
    "# Load pretrained FastText embedding matrix\n",
    "embedding_matrix = load_combined_fasttext_selected(\n",
    "    embedding_paths=['FastText/EN/cc.en.300.vec', 'FastText/FA/cc.fa.300.vec'],\n",
    "    word_index=tokenizer.word_index,\n",
    "    max_features=max_features,\n",
    "    embedding_dim=300\n",
    ")"
   ]
  },
  {
   "cell_type": "code",
   "execution_count": 35,
   "id": "cb8dc120-55d4-4c9b-9f16-bfcc045c0d10",
   "metadata": {},
   "outputs": [
    {
     "name": "stderr",
     "output_type": "stream",
     "text": [
      "2025-05-02 12:25:04.103324: I tensorflow/compiler/xla/stream_executor/cuda/cuda_gpu_executor.cc:880] could not open file to read NUMA node: /sys/bus/pci/devices/0000:01:00.0/numa_node\n",
      "Your kernel may have been built without NUMA support.\n",
      "2025-05-02 12:25:04.103532: I tensorflow/compiler/xla/stream_executor/cuda/cuda_gpu_executor.cc:880] could not open file to read NUMA node: /sys/bus/pci/devices/0000:01:00.0/numa_node\n",
      "Your kernel may have been built without NUMA support.\n",
      "2025-05-02 12:25:04.103613: I tensorflow/compiler/xla/stream_executor/cuda/cuda_gpu_executor.cc:880] could not open file to read NUMA node: /sys/bus/pci/devices/0000:01:00.0/numa_node\n",
      "Your kernel may have been built without NUMA support.\n",
      "2025-05-02 12:25:05.297939: I tensorflow/compiler/xla/stream_executor/cuda/cuda_gpu_executor.cc:880] could not open file to read NUMA node: /sys/bus/pci/devices/0000:01:00.0/numa_node\n",
      "Your kernel may have been built without NUMA support.\n",
      "2025-05-02 12:25:05.298089: I tensorflow/compiler/xla/stream_executor/cuda/cuda_gpu_executor.cc:880] could not open file to read NUMA node: /sys/bus/pci/devices/0000:01:00.0/numa_node\n",
      "Your kernel may have been built without NUMA support.\n",
      "2025-05-02 12:25:05.298110: I tensorflow/core/common_runtime/gpu/gpu_device.cc:1977] Could not identify NUMA node of platform GPU id 0, defaulting to 0.  Your kernel may not have been built with NUMA support.\n",
      "2025-05-02 12:25:05.298141: I tensorflow/core/common_runtime/gpu/gpu_process_state.cc:236] Using CUDA malloc Async allocator for GPU: 0\n",
      "2025-05-02 12:25:05.373843: I tensorflow/compiler/xla/stream_executor/cuda/cuda_gpu_executor.cc:880] could not open file to read NUMA node: /sys/bus/pci/devices/0000:01:00.0/numa_node\n",
      "Your kernel may have been built without NUMA support.\n",
      "2025-05-02 12:25:05.373898: I tensorflow/core/common_runtime/gpu/gpu_device.cc:1886] Created device /job:localhost/replica:0/task:0/device:GPU:0 with 2870 MB memory:  -> device: 0, name: NVIDIA GeForce GTX 1050 Ti, pci bus id: 0000:01:00.0, compute capability: 6.1\n"
     ]
    },
    {
     "name": "stdout",
     "output_type": "stream",
     "text": [
      "WARNING:tensorflow:Layer lstm will not use cuDNN kernels since it doesn't meet the criteria. It will use a generic GPU kernel as fallback when running on GPU.\n",
      "WARNING:tensorflow:Layer lstm will not use cuDNN kernels since it doesn't meet the criteria. It will use a generic GPU kernel as fallback when running on GPU.\n",
      "WARNING:tensorflow:Layer lstm will not use cuDNN kernels since it doesn't meet the criteria. It will use a generic GPU kernel as fallback when running on GPU.\n"
     ]
    },
    {
     "name": "stderr",
     "output_type": "stream",
     "text": [
      "2025-05-02 12:25:06.297034: W tensorflow/tsl/framework/cpu_allocator_impl.cc:83] Allocation of 120000000 exceeds 10% of free system memory.\n"
     ]
    }
   ],
   "source": [
    "from tensorflow.keras.metrics import AUC\n",
    "embedding_layer = Embedding(\n",
    "    input_dim=max_features,\n",
    "    output_dim=300,\n",
    "    weights=[embedding_matrix],\n",
    "    input_length=400,\n",
    "    trainable=True  # or True to fine-tune\n",
    ")(input_layer)\n",
    "\n",
    "# Conv + LSTM + Attention\n",
    "x = Conv1D(64, 3, activation='relu', padding='same', kernel_regularizer=l2(0.0005))(embedding_layer)\n",
    "x = BatchNormalization()(x)\n",
    "x = MaxPooling1D(pool_size=2)(x)\n",
    "x = Dropout(0.3)(x)\n",
    "\n",
    "x = Bidirectional(LSTM(64, return_sequences=True, dropout=0.2, recurrent_dropout=0.2))(x)\n",
    "\n",
    "\n",
    "# Combine GlobalMaxPooling with Attention\n",
    "from tensorflow.keras.layers import Concatenate\n",
    "attention = Attention()(x)\n",
    "pooling = GlobalMaxPooling1D()(x)\n",
    "x = Concatenate()([attention, pooling])\n",
    "\n",
    "x = Dense(128, activation='relu', kernel_regularizer=l2(0.0005))(x)\n",
    "x = BatchNormalization()(x)\n",
    "x = Dropout(0.3)(x)\n",
    "\n",
    "output_layer = Dense(1, activation='sigmoid')(x)\n",
    "\n",
    "model = Model(inputs=input_layer, outputs=output_layer)\n",
    "model.compile(\n",
    "    loss='binary_crossentropy',\n",
    "    optimizer=Adam(learning_rate=1e-4),\n",
    "    metrics=['accuracy', Precision(name='precision'), Recall(name='recall'), AUC(name='auc')]\n",
    ")"
   ]
  },
  {
   "cell_type": "code",
   "execution_count": 36,
   "id": "2958c856-10ef-4738-9dff-97e9cef502e2",
   "metadata": {},
   "outputs": [],
   "source": [
    "from tensorflow.keras.callbacks import EarlyStopping, ReduceLROnPlateau, ModelCheckpoint\n",
    "\n",
    "callbacks = [\n",
    "    EarlyStopping(monitor='val_loss', patience=3, restore_best_weights=True, verbose=1),\n",
    "    ReduceLROnPlateau(monitor='val_loss', factor=0.5, patience=3, verbose=1),\n",
    "    ModelCheckpoint('Checkpoint/model_checkpoint.h5', monitor='val_loss', save_best_only=True, verbose=1)\n",
    "]"
   ]
  },
  {
   "cell_type": "code",
   "execution_count": 37,
   "id": "8363a384-4ee8-4e94-afc6-5f08a874f04f",
   "metadata": {},
   "outputs": [
    {
     "data": {
      "image/png": "[encoded data removed]",
      "text/plain": [
       "<IPython.core.display.Image object>"
      ]
     },
     "execution_count": 37,
     "metadata": {},
     "output_type": "execute_result"
    }
   ],
   "source": [
    "from tensorflow.keras.utils import plot_model\n",
    "\n",
    "# Save model architecture as an image\n",
    "plot_model(model, to_file='Model/model_architecture.png', show_shapes=True, show_layer_names=True)"
   ]
  },
  {
   "cell_type": "code",
   "execution_count": 38,
   "id": "f894f8d9-2d8d-4785-b296-e8a343eafaa3",
   "metadata": {},
   "outputs": [
    {
     "name": "stdout",
     "output_type": "stream",
     "text": [
      "Model: \"model\"\n",
      "__________________________________________________________________________________________________\n",
      " Layer (type)                Output Shape                 Param #   Connected to                  \n",
      "==================================================================================================\n",
      " input_1 (InputLayer)        [(None, 400)]                0         []                            \n",
      "                                                                                                  \n",
      " embedding (Embedding)       (None, 400, 300)             3000000   ['input_1[0][0]']             \n",
      "                                                          0                                       \n",
      "                                                                                                  \n",
      " conv1d (Conv1D)             (None, 400, 64)              57664     ['embedding[0][0]']           \n",
      "                                                                                                  \n",
      " batch_normalization (Batch  (None, 400, 64)              256       ['conv1d[0][0]']              \n",
      " Normalization)                                                                                   \n",
      "                                                                                                  \n",
      " max_pooling1d (MaxPooling1  (None, 200, 64)              0         ['batch_normalization[0][0]'] \n",
      " D)                                                                                               \n",
      "                                                                                                  \n",
      " dropout (Dropout)           (None, 200, 64)              0         ['max_pooling1d[0][0]']       \n",
      "                                                                                                  \n",
      " bidirectional (Bidirection  (None, 200, 128)             66048     ['dropout[0][0]']             \n",
      " al)                                                                                              \n",
      "                                                                                                  \n",
      " attention (Attention)       (None, 128)                  0         ['bidirectional[0][0]']       \n",
      "                                                                                                  \n",
      " global_max_pooling1d (Glob  (None, 128)                  0         ['bidirectional[0][0]']       \n",
      " alMaxPooling1D)                                                                                  \n",
      "                                                                                                  \n",
      " concatenate (Concatenate)   (None, 256)                  0         ['attention[0][0]',           \n",
      "                                                                     'global_max_pooling1d[0][0]']\n",
      "                                                                                                  \n",
      " dense (Dense)               (None, 128)                  32896     ['concatenate[0][0]']         \n",
      "                                                                                                  \n",
      " batch_normalization_1 (Bat  (None, 128)                  512       ['dense[0][0]']               \n",
      " chNormalization)                                                                                 \n",
      "                                                                                                  \n",
      " dropout_1 (Dropout)         (None, 128)                  0         ['batch_normalization_1[0][0]'\n",
      "                                                                    ]                             \n",
      "                                                                                                  \n",
      " dense_1 (Dense)             (None, 1)                    129       ['dropout_1[0][0]']           \n",
      "                                                                                                  \n",
      "==================================================================================================\n",
      "Total params: 30157505 (115.04 MB)\n",
      "Trainable params: 30157121 (115.04 MB)\n",
      "Non-trainable params: 384 (1.50 KB)\n",
      "__________________________________________________________________________________________________\n"
     ]
    }
   ],
   "source": [
    "model.summary()"
   ]
  },
  {
   "cell_type": "code",
   "execution_count": 39,
   "id": "1ec55f9f-ff97-4f7a-8553-d3a044e2eb41",
   "metadata": {},
   "outputs": [
    {
     "name": "stdout",
     "output_type": "stream",
     "text": [
      "Training on GPU...\n"
     ]
    }
   ],
   "source": [
    "if tf.config.list_physical_devices('GPU'):\n",
    "    print(\"Training on GPU...\")"
   ]
  },
  {
   "cell_type": "code",
   "execution_count": null,
   "id": "7b63a490-bdbe-439c-9b40-f14ba7a4ff1c",
   "metadata": {},
   "outputs": [
    {
     "name": "stdout",
     "output_type": "stream",
     "text": [
      "Epoch 1/20\n"
     ]
    },
    {
     "name": "stderr",
     "output_type": "stream",
     "text": [
      "2025-05-02 00:56:07.090391: I tensorflow/compiler/xla/stream_executor/cuda/cuda_dnn.cc:442] Loaded cuDNN version 8600\n",
      "2025-05-02 00:56:14.723578: I tensorflow/compiler/xla/service/service.cc:168] XLA service 0x7fc56c2fd840 initialized for platform CUDA (this does not guarantee that XLA will be used). Devices:\n",
      "2025-05-02 00:56:14.724223: I tensorflow/compiler/xla/service/service.cc:176]   StreamExecutor device (0): NVIDIA GeForce GTX 1050 Ti, Compute Capability 6.1\n",
      "2025-05-02 00:56:14.778599: I tensorflow/compiler/mlir/tensorflow/utils/dump_mlir_util.cc:269] disabling MLIR crash reproducer, set env var `MLIR_CRASH_REPRODUCER_DIRECTORY` to enable.\n",
      "2025-05-02 00:56:14.983874: I ./tensorflow/compiler/jit/device_compiler.h:186] Compiled cluster using XLA!  This line is logged at most once for the lifetime of the process.\n"
     ]
    },
    {
     "name": "stdout",
     "output_type": "stream",
     "text": [
      "1161/1161 [==============================] - ETA: 0s - loss: 0.3498 - accuracy: 0.9017 - precision: 0.8848 - recall: 0.9025 - auc: 0.9697\n",
      "Epoch 1: val_loss improved from inf to 0.20323, saving model to Checkpoint/model_checkpoint.h5\n"
     ]
    },
    {
     "name": "stderr",
     "output_type": "stream",
     "text": [
      "/root/anaconda3/envs/clr-env-linux/lib/python3.9/site-packages/keras/src/engine/training.py:3079: UserWarning: You are saving your model as an HDF5 file via `model.save()`. This file format is considered legacy. We recommend using instead the native Keras format, e.g. `model.save('my_model.keras')`.\n",
      "  saving_api.save_model(\n"
     ]
    }
   ],
   "source": [
    "# Train the model with GPU\n",
    "with tf.device('/GPU:0'):\n",
    "    history = model.fit(\n",
    "        X_train_final, y_train_final,\n",
    "        validation_data=(X_val, y_val),\n",
    "        epochs=20,\n",
    "        batch_size=128,\n",
    "        callbacks=callbacks\n",
    "    )"
   ]
  },
  {
   "cell_type": "code",
   "execution_count": 41,
   "id": "7fb2647c-44bc-4391-9561-51bebac27f62",
   "metadata": {},
   "outputs": [
    {
     "data": {
      "text/plain": [
       "120680440"
      ]
     },
     "execution_count": 41,
     "metadata": {},
     "output_type": "execute_result"
    }
   ],
   "source": [
    "import os\n",
    "os.path.getsize('Checkpoint/model_checkpoint.h5')"
   ]
  },
  {
   "cell_type": "code",
   "execution_count": 42,
   "id": "5b082144-df74-4f7b-a2e0-7e19a7e14ba3",
   "metadata": {},
   "outputs": [
    {
     "name": "stdout",
     "output_type": "stream",
     "text": [
      "/mnt/d/Project/NLP/Projects/SpamDetector/Checkpoint/model_checkpoint.h5\n"
     ]
    }
   ],
   "source": [
    "import os\n",
    "print(os.path.abspath('Checkpoint/model_checkpoint.h5'))"
   ]
  },
  {
   "cell_type": "code",
   "execution_count": 44,
   "id": "a2b2b7f3-5f42-493f-88a4-a6bee6241a72",
   "metadata": {},
   "outputs": [
    {
     "name": "stdout",
     "output_type": "stream",
     "text": [
      "Error reading file: Unable to open file (bad object header version number)\n"
     ]
    }
   ],
   "source": [
    "import h5py\n",
    "\n",
    "try:\n",
    "    with h5py.File('Checkpoint/model_checkpoint.h5', 'r') as f:\n",
    "        print(\"File is readable.\")\n",
    "        print(\"Keys:\", list(f.keys()))\n",
    "except Exception as e:\n",
    "    print(\"Error reading file:\", e)"
   ]
  },
  {
   "cell_type": "code",
   "execution_count": 45,
   "id": "c2cd577c-b464-4873-9e22-1bbd4c82af2e",
   "metadata": {},
   "outputs": [
    {
     "name": "stdout",
     "output_type": "stream",
     "text": [
      "TensorFlow: 2.14.0\n",
      "h5py: 3.8.0\n"
     ]
    }
   ],
   "source": [
    "import tensorflow as tf\n",
    "import h5py\n",
    "\n",
    "print(\"TensorFlow:\", tf.__version__)\n",
    "print(\"h5py:\", h5py.__version__)"
   ]
  },
  {
   "cell_type": "code",
   "execution_count": 40,
   "id": "3c403c7e-54a1-4687-be70-a6b642e9c47a",
   "metadata": {},
   "outputs": [
    {
     "ename": "OSError",
     "evalue": "Unable to open file (bad object header version number)",
     "output_type": "error",
     "traceback": [
      "\u001b[0;31m---------------------------------------------------------------------------\u001b[0m",
      "\u001b[0;31mOSError\u001b[0m                                   Traceback (most recent call last)",
      "Cell \u001b[0;32mIn[40], line 4\u001b[0m\n\u001b[1;32m      1\u001b[0m \u001b[38;5;28;01mimport\u001b[39;00m \u001b[38;5;21;01mtensorflow\u001b[39;00m \u001b[38;5;28;01mas\u001b[39;00m \u001b[38;5;21;01mtf\u001b[39;00m\n\u001b[1;32m      2\u001b[0m \u001b[38;5;28;01mfrom\u001b[39;00m \u001b[38;5;21;01mtensorflow\u001b[39;00m\u001b[38;5;21;01m.\u001b[39;00m\u001b[38;5;21;01mkeras\u001b[39;00m\u001b[38;5;21;01m.\u001b[39;00m\u001b[38;5;21;01mmodels\u001b[39;00m \u001b[38;5;28;01mimport\u001b[39;00m load_model\n\u001b[0;32m----> 4\u001b[0m model \u001b[38;5;241m=\u001b[39m \u001b[43mload_model\u001b[49m\u001b[43m(\u001b[49m\u001b[38;5;124;43m'\u001b[39;49m\u001b[38;5;124;43mCheckpoint/model_checkpoint.h5\u001b[39;49m\u001b[38;5;124;43m'\u001b[39;49m\u001b[43m)\u001b[49m\n",
      "File \u001b[0;32m~/anaconda3/envs/clr-env-linux/lib/python3.9/site-packages/keras/src/saving/saving_api.py:262\u001b[0m, in \u001b[0;36mload_model\u001b[0;34m(filepath, custom_objects, compile, safe_mode, **kwargs)\u001b[0m\n\u001b[1;32m    254\u001b[0m     \u001b[38;5;28;01mreturn\u001b[39;00m saving_lib\u001b[38;5;241m.\u001b[39mload_model(\n\u001b[1;32m    255\u001b[0m         filepath,\n\u001b[1;32m    256\u001b[0m         custom_objects\u001b[38;5;241m=\u001b[39mcustom_objects,\n\u001b[1;32m    257\u001b[0m         \u001b[38;5;28mcompile\u001b[39m\u001b[38;5;241m=\u001b[39m\u001b[38;5;28mcompile\u001b[39m,\n\u001b[1;32m    258\u001b[0m         safe_mode\u001b[38;5;241m=\u001b[39msafe_mode,\n\u001b[1;32m    259\u001b[0m     )\n\u001b[1;32m    261\u001b[0m \u001b[38;5;66;03m# Legacy case.\u001b[39;00m\n\u001b[0;32m--> 262\u001b[0m \u001b[38;5;28;01mreturn\u001b[39;00m \u001b[43mlegacy_sm_saving_lib\u001b[49m\u001b[38;5;241;43m.\u001b[39;49m\u001b[43mload_model\u001b[49m\u001b[43m(\u001b[49m\n\u001b[1;32m    263\u001b[0m \u001b[43m    \u001b[49m\u001b[43mfilepath\u001b[49m\u001b[43m,\u001b[49m\u001b[43m \u001b[49m\u001b[43mcustom_objects\u001b[49m\u001b[38;5;241;43m=\u001b[39;49m\u001b[43mcustom_objects\u001b[49m\u001b[43m,\u001b[49m\u001b[43m \u001b[49m\u001b[38;5;28;43mcompile\u001b[39;49m\u001b[38;5;241;43m=\u001b[39;49m\u001b[38;5;28;43mcompile\u001b[39;49m\u001b[43m,\u001b[49m\u001b[43m \u001b[49m\u001b[38;5;241;43m*\u001b[39;49m\u001b[38;5;241;43m*\u001b[39;49m\u001b[43mkwargs\u001b[49m\n\u001b[1;32m    264\u001b[0m \u001b[43m\u001b[49m\u001b[43m)\u001b[49m\n",
      "File \u001b[0;32m~/anaconda3/envs/clr-env-linux/lib/python3.9/site-packages/keras/src/utils/traceback_utils.py:70\u001b[0m, in \u001b[0;36mfilter_traceback.<locals>.error_handler\u001b[0;34m(*args, **kwargs)\u001b[0m\n\u001b[1;32m     67\u001b[0m     filtered_tb \u001b[38;5;241m=\u001b[39m _process_traceback_frames(e\u001b[38;5;241m.\u001b[39m__traceback__)\n\u001b[1;32m     68\u001b[0m     \u001b[38;5;66;03m# To get the full stack trace, call:\u001b[39;00m\n\u001b[1;32m     69\u001b[0m     \u001b[38;5;66;03m# `tf.debugging.disable_traceback_filtering()`\u001b[39;00m\n\u001b[0;32m---> 70\u001b[0m     \u001b[38;5;28;01mraise\u001b[39;00m e\u001b[38;5;241m.\u001b[39mwith_traceback(filtered_tb) \u001b[38;5;28;01mfrom\u001b[39;00m \u001b[38;5;28;01mNone\u001b[39;00m\n\u001b[1;32m     71\u001b[0m \u001b[38;5;28;01mfinally\u001b[39;00m:\n\u001b[1;32m     72\u001b[0m     \u001b[38;5;28;01mdel\u001b[39;00m filtered_tb\n",
      "File \u001b[0;32m~/anaconda3/envs/clr-env-linux/lib/python3.9/site-packages/h5py/_hl/files.py:567\u001b[0m, in \u001b[0;36mFile.__init__\u001b[0;34m(self, name, mode, driver, libver, userblock_size, swmr, rdcc_nslots, rdcc_nbytes, rdcc_w0, track_order, fs_strategy, fs_persist, fs_threshold, fs_page_size, page_buf_size, min_meta_keep, min_raw_keep, locking, alignment_threshold, alignment_interval, meta_block_size, **kwds)\u001b[0m\n\u001b[1;32m    558\u001b[0m     fapl \u001b[38;5;241m=\u001b[39m make_fapl(driver, libver, rdcc_nslots, rdcc_nbytes, rdcc_w0,\n\u001b[1;32m    559\u001b[0m                      locking, page_buf_size, min_meta_keep, min_raw_keep,\n\u001b[1;32m    560\u001b[0m                      alignment_threshold\u001b[38;5;241m=\u001b[39malignment_threshold,\n\u001b[1;32m    561\u001b[0m                      alignment_interval\u001b[38;5;241m=\u001b[39malignment_interval,\n\u001b[1;32m    562\u001b[0m                      meta_block_size\u001b[38;5;241m=\u001b[39mmeta_block_size,\n\u001b[1;32m    563\u001b[0m                      \u001b[38;5;241m*\u001b[39m\u001b[38;5;241m*\u001b[39mkwds)\n\u001b[1;32m    564\u001b[0m     fcpl \u001b[38;5;241m=\u001b[39m make_fcpl(track_order\u001b[38;5;241m=\u001b[39mtrack_order, fs_strategy\u001b[38;5;241m=\u001b[39mfs_strategy,\n\u001b[1;32m    565\u001b[0m                      fs_persist\u001b[38;5;241m=\u001b[39mfs_persist, fs_threshold\u001b[38;5;241m=\u001b[39mfs_threshold,\n\u001b[1;32m    566\u001b[0m                      fs_page_size\u001b[38;5;241m=\u001b[39mfs_page_size)\n\u001b[0;32m--> 567\u001b[0m     fid \u001b[38;5;241m=\u001b[39m make_fid(name, mode, userblock_size, fapl, fcpl, swmr\u001b[38;5;241m=\u001b[39mswmr)\n\u001b[1;32m    569\u001b[0m \u001b[38;5;28;01mif\u001b[39;00m \u001b[38;5;28misinstance\u001b[39m(libver, \u001b[38;5;28mtuple\u001b[39m):\n\u001b[1;32m    570\u001b[0m     \u001b[38;5;28mself\u001b[39m\u001b[38;5;241m.\u001b[39m_libver \u001b[38;5;241m=\u001b[39m libver\n",
      "File \u001b[0;32m~/anaconda3/envs/clr-env-linux/lib/python3.9/site-packages/h5py/_hl/files.py:231\u001b[0m, in \u001b[0;36mmake_fid\u001b[0;34m(name, mode, userblock_size, fapl, fcpl, swmr)\u001b[0m\n\u001b[1;32m    229\u001b[0m     \u001b[38;5;28;01mif\u001b[39;00m swmr \u001b[38;5;129;01mand\u001b[39;00m swmr_support:\n\u001b[1;32m    230\u001b[0m         flags \u001b[38;5;241m|\u001b[39m\u001b[38;5;241m=\u001b[39m h5f\u001b[38;5;241m.\u001b[39mACC_SWMR_READ\n\u001b[0;32m--> 231\u001b[0m     fid \u001b[38;5;241m=\u001b[39m \u001b[43mh5f\u001b[49m\u001b[38;5;241;43m.\u001b[39;49m\u001b[43mopen\u001b[49m\u001b[43m(\u001b[49m\u001b[43mname\u001b[49m\u001b[43m,\u001b[49m\u001b[43m \u001b[49m\u001b[43mflags\u001b[49m\u001b[43m,\u001b[49m\u001b[43m \u001b[49m\u001b[43mfapl\u001b[49m\u001b[38;5;241;43m=\u001b[39;49m\u001b[43mfapl\u001b[49m\u001b[43m)\u001b[49m\n\u001b[1;32m    232\u001b[0m \u001b[38;5;28;01melif\u001b[39;00m mode \u001b[38;5;241m==\u001b[39m \u001b[38;5;124m'\u001b[39m\u001b[38;5;124mr+\u001b[39m\u001b[38;5;124m'\u001b[39m:\n\u001b[1;32m    233\u001b[0m     fid \u001b[38;5;241m=\u001b[39m h5f\u001b[38;5;241m.\u001b[39mopen(name, h5f\u001b[38;5;241m.\u001b[39mACC_RDWR, fapl\u001b[38;5;241m=\u001b[39mfapl)\n",
      "File \u001b[0;32mh5py/_objects.pyx:54\u001b[0m, in \u001b[0;36mh5py._objects.with_phil.wrapper\u001b[0;34m()\u001b[0m\n",
      "File \u001b[0;32mh5py/_objects.pyx:55\u001b[0m, in \u001b[0;36mh5py._objects.with_phil.wrapper\u001b[0;34m()\u001b[0m\n",
      "File \u001b[0;32mh5py/h5f.pyx:106\u001b[0m, in \u001b[0;36mh5py.h5f.open\u001b[0;34m()\u001b[0m\n",
      "\u001b[0;31mOSError\u001b[0m: Unable to open file (bad object header version number)"
     ]
    }
   ],
   "source": [
    "import tensorflow as tf\n",
    "from tensorflow.keras.models import load_model\n",
    "\n",
    "model = load_model('Checkpoint/model_checkpoint.h5')"
   ]
  },
  {
   "cell_type": "code",
   "execution_count": 44,
   "id": "ef86b0f7-e47c-497c-994d-820c8a605c06",
   "metadata": {},
   "outputs": [
    {
     "name": "stderr",
     "output_type": "stream",
     "text": [
      "2025-05-02 00:54:20.772890: W tensorflow/tsl/framework/cpu_allocator_impl.cc:83] Allocation of 237582400 exceeds 10% of free system memory.\n"
     ]
    },
    {
     "name": "stdout",
     "output_type": "stream",
     "text": [
      "Epoch 2/20\n"
     ]
    },
    {
     "ename": "ValueError",
     "evalue": "in user code:\n\n    File \"/root/anaconda3/envs/clr-env-linux/lib/python3.9/site-packages/keras/src/engine/training.py\", line 1377, in train_function  *\n        return step_function(self, iterator)\n    File \"/root/anaconda3/envs/clr-env-linux/lib/python3.9/site-packages/keras/src/engine/training.py\", line 1360, in step_function  **\n        outputs = model.distribute_strategy.run(run_step, args=(data,))\n    File \"/root/anaconda3/envs/clr-env-linux/lib/python3.9/site-packages/keras/src/engine/training.py\", line 1349, in run_step  **\n        outputs = model.train_step(data)\n    File \"/root/anaconda3/envs/clr-env-linux/lib/python3.9/site-packages/keras/src/engine/training.py\", line 1126, in train_step\n        y_pred = self(x, training=True)\n    File \"/root/anaconda3/envs/clr-env-linux/lib/python3.9/site-packages/keras/src/utils/traceback_utils.py\", line 70, in error_handler\n        raise e.with_traceback(filtered_tb) from None\n    File \"/root/anaconda3/envs/clr-env-linux/lib/python3.9/site-packages/keras/src/engine/input_spec.py\", line 298, in assert_input_compatibility\n        raise ValueError(\n\n    ValueError: Input 0 of layer \"model\" is incompatible with the layer: expected shape=(None, 800), found shape=(None, 400)\n",
     "output_type": "error",
     "traceback": [
      "\u001b[0;31m---------------------------------------------------------------------------\u001b[0m",
      "\u001b[0;31mValueError\u001b[0m                                Traceback (most recent call last)",
      "Cell \u001b[0;32mIn[44], line 3\u001b[0m\n\u001b[1;32m      1\u001b[0m \u001b[38;5;66;03m# Train the model with GPU\u001b[39;00m\n\u001b[1;32m      2\u001b[0m \u001b[38;5;28;01mwith\u001b[39;00m tf\u001b[38;5;241m.\u001b[39mdevice(\u001b[38;5;124m'\u001b[39m\u001b[38;5;124m/GPU:0\u001b[39m\u001b[38;5;124m'\u001b[39m):\n\u001b[0;32m----> 3\u001b[0m     history \u001b[38;5;241m=\u001b[39m \u001b[43mmodel\u001b[49m\u001b[38;5;241;43m.\u001b[39;49m\u001b[43mfit\u001b[49m\u001b[43m(\u001b[49m\n\u001b[1;32m      4\u001b[0m \u001b[43m        \u001b[49m\u001b[43mX_train_final\u001b[49m\u001b[43m,\u001b[49m\u001b[43m \u001b[49m\u001b[43my_train_final\u001b[49m\u001b[43m,\u001b[49m\n\u001b[1;32m      5\u001b[0m \u001b[43m        \u001b[49m\u001b[43mvalidation_data\u001b[49m\u001b[38;5;241;43m=\u001b[39;49m\u001b[43m(\u001b[49m\u001b[43mX_val\u001b[49m\u001b[43m,\u001b[49m\u001b[43m \u001b[49m\u001b[43my_val\u001b[49m\u001b[43m)\u001b[49m\u001b[43m,\u001b[49m\n\u001b[1;32m      6\u001b[0m \u001b[43m        \u001b[49m\u001b[43mepochs\u001b[49m\u001b[38;5;241;43m=\u001b[39;49m\u001b[38;5;241;43m20\u001b[39;49m\u001b[43m,\u001b[49m\n\u001b[1;32m      7\u001b[0m \u001b[43m        \u001b[49m\u001b[43mbatch_size\u001b[49m\u001b[38;5;241;43m=\u001b[39;49m\u001b[38;5;241;43m128\u001b[39;49m\u001b[43m,\u001b[49m\n\u001b[1;32m      8\u001b[0m \u001b[43m        \u001b[49m\u001b[43mcallbacks\u001b[49m\u001b[38;5;241;43m=\u001b[39;49m\u001b[43mcallbacks\u001b[49m\u001b[43m,\u001b[49m\n\u001b[1;32m      9\u001b[0m \u001b[43m        \u001b[49m\u001b[43minitial_epoch\u001b[49m\u001b[38;5;241;43m=\u001b[39;49m\u001b[38;5;241;43m1\u001b[39;49m\n\u001b[1;32m     10\u001b[0m \u001b[43m    \u001b[49m\u001b[43m)\u001b[49m\n",
      "File \u001b[0;32m~/anaconda3/envs/clr-env-linux/lib/python3.9/site-packages/keras/src/utils/traceback_utils.py:70\u001b[0m, in \u001b[0;36mfilter_traceback.<locals>.error_handler\u001b[0;34m(*args, **kwargs)\u001b[0m\n\u001b[1;32m     67\u001b[0m     filtered_tb \u001b[38;5;241m=\u001b[39m _process_traceback_frames(e\u001b[38;5;241m.\u001b[39m__traceback__)\n\u001b[1;32m     68\u001b[0m     \u001b[38;5;66;03m# To get the full stack trace, call:\u001b[39;00m\n\u001b[1;32m     69\u001b[0m     \u001b[38;5;66;03m# `tf.debugging.disable_traceback_filtering()`\u001b[39;00m\n\u001b[0;32m---> 70\u001b[0m     \u001b[38;5;28;01mraise\u001b[39;00m e\u001b[38;5;241m.\u001b[39mwith_traceback(filtered_tb) \u001b[38;5;28;01mfrom\u001b[39;00m \u001b[38;5;28;01mNone\u001b[39;00m\n\u001b[1;32m     71\u001b[0m \u001b[38;5;28;01mfinally\u001b[39;00m:\n\u001b[1;32m     72\u001b[0m     \u001b[38;5;28;01mdel\u001b[39;00m filtered_tb\n",
      "File \u001b[0;32m/tmp/__autograph_generated_file6brihrao.py:15\u001b[0m, in \u001b[0;36mouter_factory.<locals>.inner_factory.<locals>.tf__train_function\u001b[0;34m(iterator)\u001b[0m\n\u001b[1;32m     13\u001b[0m \u001b[38;5;28;01mtry\u001b[39;00m:\n\u001b[1;32m     14\u001b[0m     do_return \u001b[38;5;241m=\u001b[39m \u001b[38;5;28;01mTrue\u001b[39;00m\n\u001b[0;32m---> 15\u001b[0m     retval_ \u001b[38;5;241m=\u001b[39m ag__\u001b[38;5;241m.\u001b[39mconverted_call(ag__\u001b[38;5;241m.\u001b[39mld(step_function), (ag__\u001b[38;5;241m.\u001b[39mld(\u001b[38;5;28mself\u001b[39m), ag__\u001b[38;5;241m.\u001b[39mld(iterator)), \u001b[38;5;28;01mNone\u001b[39;00m, fscope)\n\u001b[1;32m     16\u001b[0m \u001b[38;5;28;01mexcept\u001b[39;00m:\n\u001b[1;32m     17\u001b[0m     do_return \u001b[38;5;241m=\u001b[39m \u001b[38;5;28;01mFalse\u001b[39;00m\n",
      "\u001b[0;31mValueError\u001b[0m: in user code:\n\n    File \"/root/anaconda3/envs/clr-env-linux/lib/python3.9/site-packages/keras/src/engine/training.py\", line 1377, in train_function  *\n        return step_function(self, iterator)\n    File \"/root/anaconda3/envs/clr-env-linux/lib/python3.9/site-packages/keras/src/engine/training.py\", line 1360, in step_function  **\n        outputs = model.distribute_strategy.run(run_step, args=(data,))\n    File \"/root/anaconda3/envs/clr-env-linux/lib/python3.9/site-packages/keras/src/engine/training.py\", line 1349, in run_step  **\n        outputs = model.train_step(data)\n    File \"/root/anaconda3/envs/clr-env-linux/lib/python3.9/site-packages/keras/src/engine/training.py\", line 1126, in train_step\n        y_pred = self(x, training=True)\n    File \"/root/anaconda3/envs/clr-env-linux/lib/python3.9/site-packages/keras/src/utils/traceback_utils.py\", line 70, in error_handler\n        raise e.with_traceback(filtered_tb) from None\n    File \"/root/anaconda3/envs/clr-env-linux/lib/python3.9/site-packages/keras/src/engine/input_spec.py\", line 298, in assert_input_compatibility\n        raise ValueError(\n\n    ValueError: Input 0 of layer \"model\" is incompatible with the layer: expected shape=(None, 800), found shape=(None, 400)\n"
     ]
    }
   ],
   "source": [
    "# Train the model with GPU\n",
    "with tf.device('/GPU:0'):\n",
    "    history = model.fit(\n",
    "        X_train_final, y_train_final,\n",
    "        validation_data=(X_val, y_val),\n",
    "        epochs=20,\n",
    "        batch_size=128,\n",
    "        callbacks=callbacks,\n",
    "        initial_epoch=1\n",
    "    )"
   ]
  },
  {
   "cell_type": "code",
   "execution_count": null,
   "id": "9d34f337-2662-405b-ac33-eeccf67fd266",
   "metadata": {},
   "outputs": [],
   "source": []
  }
 ],
 "metadata": {
  "kernelspec": {
   "display_name": "Python 3 (ipykernel)",
   "language": "python",
   "name": "python3"
  },
  "language_info": {
   "codemirror_mode": {
    "name": "ipython",
    "version": 3
   },
   "file_extension": ".py",
   "mimetype": "text/x-python",
   "name": "python",
   "nbconvert_exporter": "python",
   "pygments_lexer": "ipython3",
   "version": "3.9.15"
  }
 },
 "nbformat": 4,
 "nbformat_minor": 5
}
